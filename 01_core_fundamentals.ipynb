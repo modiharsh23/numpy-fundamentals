{
 "cells": [
  {
   "cell_type": "markdown",
   "id": "df4ef46e",
   "metadata": {},
   "source": [
    "# Core Fundamentals of NumPy\n",
    "\n",
    "This notebook covers the essential building blocks of NumPy, including how to create arrays, use built-in functions for array generation, and understand fundamental array attributes."
   ]
  },
  {
   "cell_type": "markdown",
   "id": "451f1c88",
   "metadata": {},
   "source": [
    "### 1. Importing NumPy\n",
    "\n",
    "As a standard convention, we import NumPy with the alias `np`."
   ]
  },
  {
   "cell_type": "code",
   "execution_count": 1,
   "id": "413f465c",
   "metadata": {},
   "outputs": [],
   "source": [
    "import numpy as np"
   ]
  },
  {
   "cell_type": "markdown",
   "id": "7325bded",
   "metadata": {},
   "source": [
    "### 2. Creating a 1D Array\n",
    "\n",
    "A 1D array, or vector, can be created by passing a Python list to the `np.array()` function."
   ]
  },
  {
   "cell_type": "code",
   "execution_count": 2,
   "id": "7d04f21c",
   "metadata": {},
   "outputs": [
    {
     "name": "stdout",
     "output_type": "stream",
     "text": [
      "[1 2 3 4 5]\n"
     ]
    }
   ],
   "source": [
    "l1 = [1,2,3,4,5]\n",
    "arr1 = np.array(l1)\n",
    "print(arr1)"
   ]
  },
  {
   "cell_type": "markdown",
   "id": "e22b21db",
   "metadata": {},
   "source": [
    "### 3. Creating a 2D Array (Matrix)\n",
    "\n",
    "A 2D array, or matrix, is created by passing a list of lists to `np.array()`."
   ]
  },
  {
   "cell_type": "code",
   "execution_count": 3,
   "id": "806c18e3",
   "metadata": {},
   "outputs": [
    {
     "name": "stdout",
     "output_type": "stream",
     "text": [
      "[[1 2]\n",
      " [3 4]]\n"
     ]
    }
   ],
   "source": [
    "l2 = [[1,2],[3,4]]\n",
    "arr2 = np.array(l2)\n",
    "print(arr2)"
   ]
  },
  {
   "cell_type": "markdown",
   "id": "129f2e61",
   "metadata": {},
   "source": [
    "### 4. Creating an Array with a Sequence\n",
    "\n",
    "The `np.arange(start, stop)` function generates an array with evenly spaced values within a given interval. Note that the `stop` value is exclusive."
   ]
  },
  {
   "cell_type": "code",
   "execution_count": 4,
   "id": "38187b7d",
   "metadata": {},
   "outputs": [
    {
     "name": "stdout",
     "output_type": "stream",
     "text": [
      "[0 1 2 3 4 5 6 7 8 9]\n"
     ]
    }
   ],
   "source": [
    "seq_arr = np.arange(0,10)\n",
    "print(seq_arr)"
   ]
  },
  {
   "cell_type": "markdown",
   "id": "e711619a",
   "metadata": {},
   "source": [
    "### 5. Creating a Sequence with a Step\n",
    "\n",
    "You can add a third argument, `step`, to `np.arange(start, stop, step)` to specify the increment between values."
   ]
  },
  {
   "cell_type": "code",
   "execution_count": 5,
   "id": "e2cbe155",
   "metadata": {},
   "outputs": [
    {
     "name": "stdout",
     "output_type": "stream",
     "text": [
      "[ 1  3  5  7  9 11 13 15 17 19]\n"
     ]
    }
   ],
   "source": [
    "seq_arr_step = np.arange(1,20,2)\n",
    "print(seq_arr_step)"
   ]
  },
  {
   "cell_type": "markdown",
   "id": "c0c8c506",
   "metadata": {},
   "source": [
    "### 6. Creating an Array of Zeros\n",
    "\n",
    "`np.zeros(shape)` creates an array of a specified shape, filled entirely with zeros. This is useful for initializing an array before populating it with data."
   ]
  },
  {
   "cell_type": "code",
   "execution_count": 6,
   "id": "2aa23f55",
   "metadata": {},
   "outputs": [
    {
     "name": "stdout",
     "output_type": "stream",
     "text": [
      "[[0. 0. 0.]\n",
      " [0. 0. 0.]\n",
      " [0. 0. 0.]]\n"
     ]
    }
   ],
   "source": [
    "zero = np.zeros((3,3))\n",
    "print(zero)"
   ]
  },
  {
   "cell_type": "markdown",
   "id": "4a1d3fd3",
   "metadata": {},
   "source": [
    "### 7. Creating an Array of Ones\n",
    "\n",
    "Similarly, `np.ones(shape)` creates an array filled with ones."
   ]
  },
  {
   "cell_type": "code",
   "execution_count": 7,
   "id": "0ed34581",
   "metadata": {},
   "outputs": [
    {
     "name": "stdout",
     "output_type": "stream",
     "text": [
      "[[1. 1. 1. 1.]\n",
      " [1. 1. 1. 1.]\n",
      " [1. 1. 1. 1.]]\n"
     ]
    }
   ],
   "source": [
    "one = np.ones((3,4))\n",
    "print(one)"
   ]
  },
  {
   "cell_type": "markdown",
   "id": "7a0bb967",
   "metadata": {},
   "source": [
    "### 8. Creating an Array with `linspace`\n",
    "\n",
    "`np.linspace(start, stop, num)` creates an array with a specified number (`num`) of evenly spaced points between a `start` and `stop` value (inclusive)."
   ]
  },
  {
   "cell_type": "code",
   "execution_count": 8,
   "id": "9396d328",
   "metadata": {},
   "outputs": [
    {
     "name": "stdout",
     "output_type": "stream",
     "text": [
      "[  0.  25.  50.  75. 100.]\n"
     ]
    }
   ],
   "source": [
    "linespace = np.linspace(0,100,5)\n",
    "print(linespace)"
   ]
  },
  {
   "cell_type": "markdown",
   "id": "b467c0ed",
   "metadata": {},
   "source": [
    "### 9. Generating a Random Array (Uniform Distribution)\n",
    "\n",
    "`np.random.rand(rows, cols)` generates an array of a given shape with random values from a uniform distribution over `[0, 1)`."
   ]
  },
  {
   "cell_type": "code",
   "execution_count": 9,
   "id": "b0602961",
   "metadata": {},
   "outputs": [
    {
     "name": "stdout",
     "output_type": "stream",
     "text": [
      "[[0.90499597 0.9827724  0.75087568]\n",
      " [0.92127522 0.47749668 0.97848699]]\n"
     ]
    }
   ],
   "source": [
    "ran_arr = np.random.rand(2,3)\n",
    "print(ran_arr)"
   ]
  },
  {
   "cell_type": "markdown",
   "id": "6db4e6d1",
   "metadata": {},
   "source": [
    "### 10. Generating a Random Array (Standard Normal Distribution)\n",
    "\n",
    "`np.random.randn(rows, cols)` generates an array with samples from the standard normal (or Gaussian) distribution, which has a mean of 0 and a standard deviation of 1."
   ]
  },
  {
   "cell_type": "code",
   "execution_count": 10,
   "id": "95921981",
   "metadata": {},
   "outputs": [
    {
     "name": "stdout",
     "output_type": "stream",
     "text": [
      "[[-0.44911421  0.67343914]\n",
      " [-1.16485682  0.10000101]\n",
      " [ 2.56541691  0.13380793]]\n"
     ]
    }
   ],
   "source": [
    "ran_arr_2 = np.random.randn(3,2)\n",
    "print(ran_arr_2)"
   ]
  },
  {
   "cell_type": "markdown",
   "id": "224ab437",
   "metadata": {},
   "source": [
    "### 11. Generating an Array of Random Integers\n",
    "\n",
    "`np.random.randint(low, high, size)` creates an array of a specified size with random integers between a `low` (inclusive) and `high` (exclusive) value."
   ]
  },
  {
   "cell_type": "code",
   "execution_count": 11,
   "id": "f89a4f90",
   "metadata": {},
   "outputs": [
    {
     "name": "stdout",
     "output_type": "stream",
     "text": [
      "[15 66 28 15 84]\n"
     ]
    }
   ],
   "source": [
    "ran_arr_3 = np.random.randint(0,100,5)\n",
    "print(ran_arr_3)"
   ]
  },
  {
   "cell_type": "markdown",
   "id": "afc4301e",
   "metadata": {},
   "source": [
    "### 12. Understanding Array Data Types (`dtype`)\n",
    "\n",
    "NumPy automatically infers the data type of an array's elements. You can check this with the `.dtype` attribute. Here, it correctly identifies the elements as 64-bit integers."
   ]
  },
  {
   "cell_type": "code",
   "execution_count": 12,
   "id": "31d05ac1",
   "metadata": {},
   "outputs": [
    {
     "name": "stdout",
     "output_type": "stream",
     "text": [
      "int64\n"
     ]
    }
   ],
   "source": [
    "int_arr = np.array([1,2,3])\n",
    "print(int_arr.dtype)"
   ]
  },
  {
   "cell_type": "markdown",
   "id": "a0a4dbd9",
   "metadata": {},
   "source": [
    "For an array with floating-point numbers, the `dtype` will be `float64`."
   ]
  },
  {
   "cell_type": "code",
   "execution_count": 13,
   "id": "6819c8c0",
   "metadata": {},
   "outputs": [
    {
     "name": "stdout",
     "output_type": "stream",
     "text": [
      "float64\n"
     ]
    }
   ],
   "source": [
    "int_arr_2 = np.array([1.1,1.2,1.3])\n",
    "print(int_arr_2.dtype)"
   ]
  },
  {
   "cell_type": "markdown",
   "id": "ba462ba5",
   "metadata": {},
   "source": [
    "You can also explicitly set the data type during creation using the `dtype` argument. This can be useful for optimizing memory usage."
   ]
  },
  {
   "cell_type": "code",
   "execution_count": 14,
   "id": "2a18c094",
   "metadata": {},
   "outputs": [
    {
     "name": "stdout",
     "output_type": "stream",
     "text": [
      "float32\n"
     ]
    }
   ],
   "source": [
    "int_arr = np.array([1,2,3], dtype='float32')\n",
    "print(int_arr.dtype)"
   ]
  },
  {
   "cell_type": "markdown",
   "id": "839c8ebc",
   "metadata": {},
   "source": [
    "### 13. Essential Array Attributes\n",
    "\n",
    "NumPy arrays have several key attributes that provide metadata about their structure.\n",
    "- **`.ndim`**: The number of dimensions (or axes) of the array.\n",
    "- **`.shape`**: A tuple representing the size of the array in each dimension.\n",
    "- **`.size`**: The total number of elements in the array."
   ]
  },
  {
   "cell_type": "code",
   "execution_count": 15,
   "id": "51d09500",
   "metadata": {},
   "outputs": [
    {
     "name": "stdout",
     "output_type": "stream",
     "text": [
      "[[[0. 0. 0.]\n",
      "  [0. 0. 0.]\n",
      "  [0. 0. 0.]\n",
      "  [0. 0. 0.]]\n",
      "\n",
      " [[0. 0. 0.]\n",
      "  [0. 0. 0.]\n",
      "  [0. 0. 0.]\n",
      "  [0. 0. 0.]]]\n",
      "3\n",
      "(2, 4, 3)\n",
      "24\n"
     ]
    }
   ],
   "source": [
    "attr_arr = np.zeros((2,4,3))\n",
    "print(attr_arr)\n",
    "print(attr_arr.ndim)\n",
    "print(attr_arr.shape)\n",
    "print(attr_arr.size)"
   ]
  }
 ],
 "metadata": {
  "kernelspec": {
   "display_name": "Python 3",
   "language": "python",
   "name": "python3"
  },
  "language_info": {
   "codemirror_mode": {
    "name": "ipython",
    "version": 3
   },
   "file_extension": ".py",
   "mimetype": "text/x-python",
   "name": "python",
   "nbconvert_exporter": "python",
   "pygments_lexer": "ipython3",
   "version": "3.12.5"
  }
 },
 "nbformat": 4,
 "nbformat_minor": 5
}
