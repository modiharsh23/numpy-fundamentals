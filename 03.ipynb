{
 "cells": [
  {
   "cell_type": "markdown",
   "id": "cbae9053",
   "metadata": {},
   "source": [
    "# Array Manipulation and Shaping\n",
    "\n",
    "This notebook covers essential techniques for changing the shape and structure of NumPy arrays, including reshaping, transposing, flattening, and combining arrays."
   ]
  },
  {
   "cell_type": "code",
   "execution_count": 1,
   "id": "952e88e7",
   "metadata": {},
   "outputs": [],
   "source": [
    "import numpy as np"
   ]
  },
  {
   "cell_type": "markdown",
   "id": "bd873cdc",
   "metadata": {},
   "source": [
    "### 1. Reshaping Arrays\n",
    "\n",
    "Reshaping allows you to change the dimensions of an array without changing its data."
   ]
  },
  {
   "cell_type": "markdown",
   "id": "fe61240f",
   "metadata": {},
   "source": [
    "First, let's create a 1D array with 12 elements."
   ]
  },
  {
   "cell_type": "code",
   "execution_count": 2,
   "id": "1c1d43db",
   "metadata": {},
   "outputs": [
    {
     "name": "stdout",
     "output_type": "stream",
     "text": [
      "[ 0  1  2  3  4  5  6  7  8  9 10 11]\n"
     ]
    }
   ],
   "source": [
    "arr = np.arange(12)\n",
    "print(arr)"
   ]
  },
  {
   "cell_type": "markdown",
   "id": "0194f383",
   "metadata": {},
   "source": [
    "The `.reshape(rows, cols)` method converts the 1D array into a 2D matrix. The total number of elements must remain the same (3 * 4 = 12)."
   ]
  },
  {
   "cell_type": "code",
   "execution_count": null,
   "id": "6e4458e8",
   "metadata": {},
   "outputs": [
    {
     "name": "stdout",
     "output_type": "stream",
     "text": [
      "[[ 0  1  2  3]\n",
      " [ 4  5  6  7]\n",
      " [ 8  9 10 11]]\n"
     ]
    }
   ],
   "source": [
    "matrix_3X4 = arr.reshape(3,4)\n",
    "print(matrix_3X4)"
   ]
  },
  {
   "cell_type": "markdown",
   "id": "bc0b0772",
   "metadata": {},
   "source": [
    "We can reshape it into a 4x3 matrix as well."
   ]
  },
  {
   "cell_type": "code",
   "execution_count": null,
   "id": "32e528d7",
   "metadata": {},
   "outputs": [
    {
     "name": "stdout",
     "output_type": "stream",
     "text": [
      "[[ 0  1  2]\n",
      " [ 3  4  5]\n",
      " [ 6  7  8]\n",
      " [ 9 10 11]]\n"
     ]
    }
   ],
   "source": [
    "matrix_4X3 = arr.reshape(4,3)\n",
    "print(matrix_4X3)"
   ]
  },
  {
   "cell_type": "markdown",
   "id": "7193e5f1",
   "metadata": {},
   "source": [
    "You can use `-1` in one of the dimensions, and NumPy will automatically calculate the correct value based on the array's size. This is very convenient when you don't want to calculate the dimension yourself."
   ]
  },
  {
   "cell_type": "code",
   "execution_count": null,
   "id": "d9f780c1",
   "metadata": {},
   "outputs": [
    {
     "name": "stdout",
     "output_type": "stream",
     "text": [
      "[[ 0  1  2  3  4  5]\n",
      " [ 6  7  8  9 10 11]]\n"
     ]
    }
   ],
   "source": [
    "matrix_auto = arr.reshape(2,-1)\n",
    "print(matrix_auto)"
   ]
  },
  {
   "cell_type": "markdown",
   "id": "2e6738cb",
   "metadata": {},
   "source": [
    "### 2. Transposing Arrays\n",
    "\n",
    "Transposing swaps the rows and columns of a matrix. It can be done using the `.T` attribute."
   ]
  },
  {
   "cell_type": "markdown",
   "id": "079745e5",
   "metadata": {},
   "source": [
    "The original 3x4 matrix is transformed into a 4x3 matrix where the rows become columns and vice versa."
   ]
  },
  {
   "cell_type": "code",
   "execution_count": 6,
   "id": "e1c430aa",
   "metadata": {},
   "outputs": [
    {
     "name": "stdout",
     "output_type": "stream",
     "text": [
      "[[ 0  1  2  3]\n",
      " [ 4  5  6  7]\n",
      " [ 8  9 10 11]]\n",
      "[[ 0  4  8]\n",
      " [ 1  5  9]\n",
      " [ 2  6 10]\n",
      " [ 3  7 11]]\n"
     ]
    }
   ],
   "source": [
    "print(matrix_3X4)\n",
    "matrix_3X4_T = matrix_3X4.T\n",
    "print(matrix_3X4_T)"
   ]
  },
  {
   "cell_type": "markdown",
   "id": "ed52cac8",
   "metadata": {},
   "source": [
    "### 3. Flattening Arrays\n",
    "\n",
    "Flattening converts a multi-dimensional array into a 1D array."
   ]
  },
  {
   "cell_type": "markdown",
   "id": "c5360468",
   "metadata": {},
   "source": [
    "The `.flatten()` method returns a 1D **copy** of the array."
   ]
  },
  {
   "cell_type": "code",
   "execution_count": 7,
   "id": "686462c5",
   "metadata": {},
   "outputs": [
    {
     "name": "stdout",
     "output_type": "stream",
     "text": [
      "[ 0  1  2  3  4  5  6  7  8  9 10 11]\n"
     ]
    }
   ],
   "source": [
    "flattened_arr = matrix_3X4.flatten()\n",
    "print(flattened_arr)"
   ]
  },
  {
   "cell_type": "markdown",
   "id": "7a8a8e30",
   "metadata": {},
   "source": [
    "The `.ravel()` method also returns a 1D array, but it may return a **view** of the original array if possible. This makes it faster and more memory-efficient."
   ]
  },
  {
   "cell_type": "code",
   "execution_count": 8,
   "id": "131ace5d",
   "metadata": {},
   "outputs": [
    {
     "name": "stdout",
     "output_type": "stream",
     "text": [
      "[ 0  1  2  3  4  5  6  7  8  9 10 11]\n"
     ]
    }
   ],
   "source": [
    "raveled_arr = matrix_3X4.ravel()\n",
    "print(raveled_arr)"
   ]
  },
  {
   "cell_type": "markdown",
   "id": "535b72e5",
   "metadata": {},
   "source": [
    "**Key Difference:** `flatten()` always returns a copy, meaning changes to the new array won't affect the original. `ravel()` returns a view when possible, so modifications might alter the original array. Use `flatten()` if you need to be sure the original array is safe."
   ]
  },
  {
   "cell_type": "markdown",
   "id": "5e2dd4d6",
   "metadata": {},
   "source": [
    "### 4. Combining Arrays: Concatenating and Stacking\n",
    "\n",
    "NumPy provides several ways to join arrays together."
   ]
  },
  {
   "cell_type": "markdown",
   "id": "bfdf1799",
   "metadata": {},
   "source": [
    "Let's create two sample 2x2 arrays."
   ]
  },
  {
   "cell_type": "code",
   "execution_count": 9,
   "id": "dca61329",
   "metadata": {},
   "outputs": [
    {
     "name": "stdout",
     "output_type": "stream",
     "text": [
      "[[1 2]\n",
      " [3 4]]\n",
      "[[5 6]\n",
      " [7 8]]\n"
     ]
    }
   ],
   "source": [
    "a = np.array([[1,2],[3,4]])\n",
    "b = np.array([[5,6],[7,8]])\n",
    "print(a)\n",
    "print(b)"
   ]
  },
  {
   "cell_type": "markdown",
   "id": "f40eca0a",
   "metadata": {},
   "source": [
    "#### Concatenate\n",
    "\n",
    "`np.concatenate()` joins a sequence of arrays along a specified axis.\n",
    "- `axis=0` concatenates along the rows (stacking them vertically).\n",
    "- `axis=1` concatenates along the columns (placing them side-by-side)."
   ]
  },
  {
   "cell_type": "code",
   "execution_count": null,
   "id": "403c2f6e",
   "metadata": {},
   "outputs": [
    {
     "name": "stdout",
     "output_type": "stream",
     "text": [
      "[[1 2]\n",
      " [3 4]\n",
      " [5 6]\n",
      " [7 8]]\n",
      "[[1 2 5 6]\n",
      " [3 4 7 8]]\n"
     ]
    }
   ],
   "source": [
    "concatenated_rows = np.concatenate([a,b], axis=0)\n",
    "print(concatenated_rows)\n",
    "concatenated_col = np.concatenate([a,b], axis=1)\n",
    "print(concatenated_col)"
   ]
  },
  {
   "cell_type": "markdown",
   "id": "65f6a13b",
   "metadata": {},
   "source": [
    "#### Stacking\n",
    "\n",
    "Stacking functions provide a more convenient syntax for concatenation.\n",
    "- `np.vstack()` (vertical stack) is equivalent to `concatenate` with `axis=0`.\n",
    "- `np.hstack()` (horizontal stack) is equivalent to `concatenate` with `axis=1`."
   ]
  },
  {
   "cell_type": "code",
   "execution_count": null,
   "id": "988895b8",
   "metadata": {},
   "outputs": [
    {
     "name": "stdout",
     "output_type": "stream",
     "text": [
      "[[1 2]\n",
      " [3 4]\n",
      " [5 6]\n",
      " [7 8]]\n",
      "[[1 2 5 6]\n",
      " [3 4 7 8]]\n"
     ]
    }
   ],
   "source": [
    "v_stack = np.vstack([a,b])\n",
    "h_stack = np.hstack([a,b])\n",
    "print(v_stack)\n",
    "print(h_stack)"
   ]
  }
 ],
 "metadata": {
  "kernelspec": {
   "display_name": "Python 3",
   "language": "python",
   "name": "python3"
  },
  "language_info": {
   "codemirror_mode": {
    "name": "ipython",
    "version": 3
   },
   "file_extension": ".py",
   "mimetype": "text/x-python",
   "name": "python",
   "nbconvert_exporter": "python",
   "pygments_lexer": "ipython3",
   "version": "3.12.5"
  }
 },
 "nbformat": 4,
 "nbformat_minor": 5
}
