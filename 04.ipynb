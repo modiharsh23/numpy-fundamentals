{
 "cells": [
  {
   "cell_type": "markdown",
   "id": "310642ba",
   "metadata": {},
   "source": [
    "# Mathematical and Statistical Operations\n",
    "\n",
    "This notebook explores how to perform efficient mathematical and statistical computations on NumPy arrays. We'll cover vectorized operations, universal functions (ufuncs), and aggregations."
   ]
  },
  {
   "cell_type": "code",
   "execution_count": 1,
   "id": "99680847",
   "metadata": {},
   "outputs": [],
   "source": [
    "import numpy as np"
   ]
  },
  {
   "cell_type": "markdown",
   "id": "de8cc776",
   "metadata": {},
   "source": [
    "Let's start by creating a sample 2x4 array."
   ]
  },
  {
   "cell_type": "code",
   "execution_count": 2,
   "id": "237536a1",
   "metadata": {},
   "outputs": [
    {
     "name": "stdout",
     "output_type": "stream",
     "text": [
      "[[1 2 3 4]\n",
      " [5 6 7 8]]\n"
     ]
    }
   ],
   "source": [
    "data = np.array([[1,2,3,4],\n",
    "                [5,6,7,8]])\n",
    "print(data)"
   ]
  },
  {
   "cell_type": "markdown",
   "id": "bba4062e",
   "metadata": {},
   "source": [
    "### 1. Vectorized Arithmetic and Universal Functions\n",
    "\n",
    "NumPy allows you to perform operations on entire arrays at once, which is much faster than using Python loops. This is called vectorization."
   ]
  },
  {
   "cell_type": "markdown",
   "id": "0e8e656c",
   "metadata": {},
   "source": [
    "#### Basic Arithmetic\n",
    "You can perform element-wise arithmetic (addition, subtraction, multiplication, etc.) directly on the array. Here, every element in `data` is multiplied by 10."
   ]
  },
  {
   "cell_type": "code",
   "execution_count": null,
   "id": "e98ea67a",
   "metadata": {},
   "outputs": [
    {
     "name": "stdout",
     "output_type": "stream",
     "text": [
      "[[10 20 30 40]\n",
      " [50 60 70 80]]\n"
     ]
    }
   ],
   "source": [
    "print(data*10)"
   ]
  },
  {
   "cell_type": "markdown",
   "id": "cc28f6bc",
   "metadata": {},
   "source": [
    "#### Universal Functions (ufuncs)\n",
    "A ufunc is a function that operates on arrays in an element-by-element fashion. NumPy has many built-in ufuncs. For example, `np.sqrt()` calculates the square root of every element."
   ]
  },
  {
   "cell_type": "code",
   "execution_count": null,
   "id": "6dfaff6b",
   "metadata": {},
   "outputs": [
    {
     "name": "stdout",
     "output_type": "stream",
     "text": [
      "[[1.         1.41421356 1.73205081 2.        ]\n",
      " [2.23606798 2.44948974 2.64575131 2.82842712]]\n"
     ]
    }
   ],
   "source": [
    "print(np.sqrt(data))"
   ]
  },
  {
   "cell_type": "markdown",
   "id": "42c96e1a",
   "metadata": {},
   "source": [
    "Another common ufunc is `np.exp()`, which calculates the exponential ($e^x$) of each element."
   ]
  },
  {
   "cell_type": "code",
   "execution_count": null,
   "id": "48127029",
   "metadata": {},
   "outputs": [
    {
     "name": "stdout",
     "output_type": "stream",
     "text": [
      "[[2.71828183e+00 7.38905610e+00 2.00855369e+01 5.45981500e+01]\n",
      " [1.48413159e+02 4.03428793e+02 1.09663316e+03 2.98095799e+03]]\n"
     ]
    }
   ],
   "source": [
    "print(np.exp(data))"
   ]
  },
  {
   "cell_type": "markdown",
   "id": "950302db",
   "metadata": {},
   "source": [
    "### 2. Aggregation Functions\n",
    "\n",
    "Aggregation functions perform a computation on an array and return a single value."
   ]
  },
  {
   "cell_type": "markdown",
   "id": "c8f88643",
   "metadata": {},
   "source": [
    "The `.sum()` method calculates the sum of all elements in the array."
   ]
  },
  {
   "cell_type": "code",
   "execution_count": null,
   "id": "1595b392",
   "metadata": {},
   "outputs": [
    {
     "name": "stdout",
     "output_type": "stream",
     "text": [
      "[[1 2 3 4]\n",
      " [5 6 7 8]]\n",
      "36\n"
     ]
    }
   ],
   "source": [
    "print(data)\n",
    "\n",
    "print(data.sum())"
   ]
  },
  {
   "cell_type": "markdown",
   "id": "284f26fc",
   "metadata": {},
   "source": [
    "The `.mean()` method calculates the average of all elements."
   ]
  },
  {
   "cell_type": "code",
   "execution_count": null,
   "id": "751180b5",
   "metadata": {},
   "outputs": [
    {
     "name": "stdout",
     "output_type": "stream",
     "text": [
      "4.5\n"
     ]
    }
   ],
   "source": [
    "print(data.mean())"
   ]
  },
  {
   "cell_type": "markdown",
   "id": "8cc86600",
   "metadata": {},
   "source": [
    "The `.std()` method calculates the standard deviation."
   ]
  },
  {
   "cell_type": "code",
   "execution_count": null,
   "id": "3667a298",
   "metadata": {},
   "outputs": [
    {
     "name": "stdout",
     "output_type": "stream",
     "text": [
      "2.29128784747792\n"
     ]
    }
   ],
   "source": [
    "print(data.std())"
   ]
  },
  {
   "cell_type": "markdown",
   "id": "787fafd4",
   "metadata": {},
   "source": [
    "The `.min()` and `.max()` methods find the minimum and maximum values in the array, respectively."
   ]
  },
  {
   "cell_type": "code",
   "execution_count": null,
   "id": "3335c801",
   "metadata": {},
   "outputs": [
    {
     "name": "stdout",
     "output_type": "stream",
     "text": [
      "min = 1\n",
      "max = 8\n"
     ]
    }
   ],
   "source": [
    "print(f'min = {data.min()}')\n",
    "print(f'max = {data.max()}')"
   ]
  },
  {
   "cell_type": "markdown",
   "id": "d55c927a",
   "metadata": {},
   "source": [
    "### 3. Axis-based Operations\n",
    "\n",
    "You can also perform aggregations along a specific axis (e.g., across rows or columns).\n",
    "- `axis=0` refers to the vertical axis (columns).\n",
    "- `axis=1` refers to the horizontal axis (rows)."
   ]
  },
  {
   "cell_type": "markdown",
   "id": "f74d9960",
   "metadata": {},
   "source": [
    "Here, `data.sum(axis=0)` collapses the rows and computes the sum of each **column**. The result is a 1D array where each element is the sum of the corresponding column."
   ]
  },
  {
   "cell_type": "code",
   "execution_count": null,
   "id": "e09a1b81",
   "metadata": {},
   "outputs": [
    {
     "name": "stdout",
     "output_type": "stream",
     "text": [
      "[ 6  8 10 12]\n"
     ]
    }
   ],
   "source": [
    "col_sum = data.sum(axis=0)\n",
    "print(col_sum)"
   ]
  },
  {
   "cell_type": "markdown",
   "id": "b6dc023f",
   "metadata": {},
   "source": [
    "`data.sum(axis=1)` collapses the columns and computes the sum of each **row**."
   ]
  },
  {
   "cell_type": "code",
   "execution_count": null,
   "id": "ab2e8d66",
   "metadata": {},
   "outputs": [
    {
     "name": "stdout",
     "output_type": "stream",
     "text": [
      "[10 26]\n"
     ]
    }
   ],
   "source": [
    "row_sum = data.sum(axis=1)\n",
    "print(row_sum)"
   ]
  },
  {
   "cell_type": "markdown",
   "id": "e4763444",
   "metadata": {},
   "source": [
    "This principle applies to other aggregation functions as well, such as finding the mean of each column."
   ]
  },
  {
   "cell_type": "code",
   "execution_count": null,
   "id": "e26230ba",
   "metadata": {},
   "outputs": [
    {
     "name": "stdout",
     "output_type": "stream",
     "text": [
      "[3. 4. 5. 6.]\n"
     ]
    }
   ],
   "source": [
    "col_mean = data.mean(axis=0)\n",
    "print(col_mean)"
   ]
  },
  {
   "cell_type": "markdown",
   "id": "0be80d36",
   "metadata": {},
   "source": [
    "### 4. `argmax` and `argmin`\n",
    "\n",
    "These functions are extremely useful for finding the **indices** of the maximum and minimum values in an array."
   ]
  },
  {
   "cell_type": "markdown",
   "id": "8a20fe5a",
   "metadata": {},
   "source": [
    "Imagine this array represents the output probabilities from a machine learning model for four classes.\n",
    "- `.argmax()` returns the index of the highest value, which corresponds to the predicted class.\n",
    "- `.argmin()` returns the index of the lowest value."
   ]
  },
  {
   "cell_type": "code",
   "execution_count": null,
   "id": "98bbf974",
   "metadata": {},
   "outputs": [
    {
     "name": "stdout",
     "output_type": "stream",
     "text": [
      "[0.1 0.2 0.5 0.1]\n",
      "2\n",
      "0\n"
     ]
    }
   ],
   "source": [
    "model_output = np.array([0.1,0.2,0.5,0.1])\n",
    "print(model_output)\n",
    "\n",
    "predict_max = model_output.argmax()\n",
    "predict_min = model_output.argmin()\n",
    "print(predict_max)\n",
    "print(predict_min)"
   ]
  }
 ],
 "metadata": {
  "kernelspec": {
   "display_name": "Python 3",
   "language": "python",
   "name": "python3"
  },
  "language_info": {
   "codemirror_mode": {
    "name": "ipython",
    "version": 3
   },
   "file_extension": ".py",
   "mimetype": "text/x-python",
   "name": "python",
   "nbconvert_exporter": "python",
   "pygments_lexer": "ipython3",
   "version": "3.12.5"
  }
 },
 "nbformat": 4,
 "nbformat_minor": 5
}
