{
 "cells": [
  {
   "cell_type": "markdown",
   "id": "1e059f8e",
   "metadata": {},
   "source": [
    "# NumPy Array Indexing and Slicing\n",
    "\n",
    "This notebook demonstrates how to access, select, and filter elements within NumPy arrays. We will cover basic indexing, slicing, and conditional selection."
   ]
  },
  {
   "cell_type": "code",
   "execution_count": 1,
   "id": "941bb739",
   "metadata": {},
   "outputs": [],
   "source": [
    "import numpy as np"
   ]
  },
  {
   "cell_type": "markdown",
   "id": "d27ed764",
   "metadata": {},
   "source": [
    "### 1. Creating Sample Arrays\n",
    "\n",
    "Let's start by creating a 1D and a 2D array to use for our indexing and slicing examples."
   ]
  },
  {
   "cell_type": "markdown",
   "id": "5fd57166",
   "metadata": {},
   "source": [
    "A simple 1D array (vector) from 0 to 10."
   ]
  },
  {
   "cell_type": "code",
   "execution_count": null,
   "id": "4a22a853",
   "metadata": {},
   "outputs": [
    {
     "name": "stdout",
     "output_type": "stream",
     "text": [
      "[ 0  1  2  3  4  5  6  7  8  9 10]\n"
     ]
    }
   ],
   "source": [
    "arr_1d = np.arange(0,11)\n",
    "print(arr_1d)"
   ]
  },
  {
   "cell_type": "markdown",
   "id": "74105856",
   "metadata": {},
   "source": [
    "A 5x5 2D array (matrix) with values from 0 to 24."
   ]
  },
  {
   "cell_type": "code",
   "execution_count": null,
   "id": "368a974f",
   "metadata": {},
   "outputs": [
    {
     "name": "stdout",
     "output_type": "stream",
     "text": [
      "[[ 0  1  2  3  4]\n",
      " [ 5  6  7  8  9]\n",
      " [10 11 12 13 14]\n",
      " [15 16 17 18 19]\n",
      " [20 21 22 23 24]]\n"
     ]
    }
   ],
   "source": [
    "arr_2d = np.arange(0,25).reshape(5,5)\n",
    "print(arr_2d)\n"
   ]
  },
  {
   "cell_type": "markdown",
   "id": "7887c10d",
   "metadata": {},
   "source": [
    "### 2. Basic Indexing\n",
    "\n",
    "Indexing in NumPy is similar to Python lists. You can access elements using square brackets `[]`."
   ]
  },
  {
   "cell_type": "markdown",
   "id": "37bfa287",
   "metadata": {},
   "source": [
    "Accessing an element in a 1D array is straightforward. Here, we get the element at index 3."
   ]
  },
  {
   "cell_type": "code",
   "execution_count": null,
   "id": "62ee00ea",
   "metadata": {},
   "outputs": [
    {
     "name": "stdout",
     "output_type": "stream",
     "text": [
      "3\n"
     ]
    }
   ],
   "source": [
    "print(arr_1d[3])"
   ]
  },
  {
   "cell_type": "markdown",
   "id": "0a48f31f",
   "metadata": {},
   "source": [
    "Negative indexing allows you to access elements from the end of the array. `-1` refers to the last element."
   ]
  },
  {
   "cell_type": "code",
   "execution_count": null,
   "id": "05d89ca6",
   "metadata": {},
   "outputs": [
    {
     "name": "stdout",
     "output_type": "stream",
     "text": [
      "10\n"
     ]
    }
   ],
   "source": [
    "print(arr_1d[-1])"
   ]
  },
  {
   "cell_type": "markdown",
   "id": "29ee2ada",
   "metadata": {},
   "source": [
    "For a 2D array, you use the format `[row, column]` to access a specific element. Here, we get the element at the first row and first column."
   ]
  },
  {
   "cell_type": "code",
   "execution_count": null,
   "id": "b033a9c3",
   "metadata": {},
   "outputs": [
    {
     "name": "stdout",
     "output_type": "stream",
     "text": [
      "0\n"
     ]
    }
   ],
   "source": [
    "print(arr_2d[0,0])"
   ]
  },
  {
   "cell_type": "markdown",
   "id": "59b0d7a2",
   "metadata": {},
   "source": [
    "Accessing the element at the 3rd row (index 2) and 4th column (index 3)."
   ]
  },
  {
   "cell_type": "code",
   "execution_count": 7,
   "id": "711aa36e",
   "metadata": {},
   "outputs": [
    {
     "name": "stdout",
     "output_type": "stream",
     "text": [
      "13\n"
     ]
    }
   ],
   "source": [
    "print(arr_2d[2,3])"
   ]
  },
  {
   "cell_type": "markdown",
   "id": "e3eea678",
   "metadata": {},
   "source": [
    "### 3. Slicing\n",
    "\n",
    "Slicing lets you extract a subset of an array. The syntax is `[start:stop:step]`, where `stop` is exclusive."
   ]
  },
  {
   "cell_type": "markdown",
   "id": "e3b82684",
   "metadata": {},
   "source": [
    "Here, we slice the 1D array from index 2 up to (but not including) index 6."
   ]
  },
  {
   "cell_type": "code",
   "execution_count": null,
   "id": "6c06fc5f",
   "metadata": {},
   "outputs": [
    {
     "name": "stdout",
     "output_type": "stream",
     "text": [
      "[2 3 4 5]\n"
     ]
    }
   ],
   "source": [
    "slice_arr_1d = arr_1d[2:6]\n",
    "print(slice_arr_1d)"
   ]
  },
  {
   "cell_type": "markdown",
   "id": "b0e01657",
   "metadata": {},
   "source": [
    "To slice a 2D array, you specify the slice for both the rows and columns. This example extracts the first two rows and all columns. The `:` by itself means \"select all\"."
   ]
  },
  {
   "cell_type": "code",
   "execution_count": null,
   "id": "d75fe26b",
   "metadata": {},
   "outputs": [
    {
     "name": "stdout",
     "output_type": "stream",
     "text": [
      "[[0 1 2 3 4]\n",
      " [5 6 7 8 9]]\n"
     ]
    }
   ],
   "source": [
    "print(arr_2d[0:2, :])"
   ]
  },
  {
   "cell_type": "markdown",
   "id": "823cbf31",
   "metadata": {},
   "source": [
    "This extracts all rows but only the columns from index 2 up to index 4."
   ]
  },
  {
   "cell_type": "code",
   "execution_count": null,
   "id": "29fbab90",
   "metadata": {},
   "outputs": [
    {
     "name": "stdout",
     "output_type": "stream",
     "text": [
      "[[ 2  3]\n",
      " [ 7  8]\n",
      " [12 13]\n",
      " [17 18]\n",
      " [22 23]]\n"
     ]
    }
   ],
   "source": [
    "print(arr_2d[:,2:4])"
   ]
  },
  {
   "cell_type": "markdown",
   "id": "843a201b",
   "metadata": {},
   "source": [
    "You can combine row and column slicing to extract a specific sub-matrix. This code selects a 2x2 matrix from the top-right corner."
   ]
  },
  {
   "cell_type": "code",
   "execution_count": null,
   "id": "2ddd4676",
   "metadata": {},
   "outputs": [
    {
     "name": "stdout",
     "output_type": "stream",
     "text": [
      "[[3 4]\n",
      " [8 9]]\n"
     ]
    }
   ],
   "source": [
    "print(arr_2d[0:2,3:5])"
   ]
  },
  {
   "cell_type": "markdown",
   "id": "21d44e63",
   "metadata": {},
   "source": [
    "### 4. Boolean Indexing (Conditional Selection)\n",
    "\n",
    "This powerful feature allows you to select elements from an array based on a condition."
   ]
  },
  {
   "cell_type": "markdown",
   "id": "bac03582",
   "metadata": {},
   "source": [
    "First, we create a boolean \"mask\" by applying a condition to the array. The resulting array contains `True` where the condition is met and `False` otherwise."
   ]
  },
  {
   "cell_type": "code",
   "execution_count": null,
   "id": "ddceaeda",
   "metadata": {},
   "outputs": [
    {
     "name": "stdout",
     "output_type": "stream",
     "text": [
      "[[False False False False False]\n",
      " [False False False False False]\n",
      " [False False False False False]\n",
      " [False  True  True  True  True]\n",
      " [ True  True  True  True  True]]\n"
     ]
    }
   ],
   "source": [
    "bool_mask = arr_2d > 15\n",
    "print(bool_mask)"
   ]
  },
  {
   "cell_type": "markdown",
   "id": "155588af",
   "metadata": {},
   "source": [
    "By passing this boolean mask back into the array, we can select only the elements that correspond to `True` values."
   ]
  },
  {
   "cell_type": "code",
   "execution_count": null,
   "id": "a6e90c10",
   "metadata": {},
   "outputs": [
    {
     "name": "stdout",
     "output_type": "stream",
     "text": [
      "[16 17 18 19 20 21 22 23 24]\n"
     ]
    }
   ],
   "source": [
    "sel_data = arr_2d[bool_mask]\n",
    "print(sel_data)"
   ]
  },
  {
   "cell_type": "markdown",
   "id": "c6c4116b",
   "metadata": {},
   "source": [
    "You can combine the condition and selection into a single, concise line."
   ]
  },
  {
   "cell_type": "code",
   "execution_count": null,
   "id": "b07144e8",
   "metadata": {},
   "outputs": [
    {
     "name": "stdout",
     "output_type": "stream",
     "text": [
      "[16 17 18 19 20 21 22 23 24]\n"
     ]
    }
   ],
   "source": [
    "selected_data_oneline = arr_2d[arr_2d > 15]\n",
    "print(selected_data_oneline)"
   ]
  },
  {
   "cell_type": "markdown",
   "id": "3455832a",
   "metadata": {},
   "source": [
    "Here's another example: selecting all even numbers from the array."
   ]
  },
  {
   "cell_type": "code",
   "execution_count": null,
   "id": "ac260760",
   "metadata": {},
   "outputs": [
    {
     "name": "stdout",
     "output_type": "stream",
     "text": [
      "[ 0  2  4  6  8 10 12 14 16 18 20 22 24]\n"
     ]
    }
   ],
   "source": [
    "print(arr_2d[arr_2d % 2 ==0])"
   ]
  },
  {
   "cell_type": "markdown",
   "id": "bcf9e2fb",
   "metadata": {},
   "source": [
    "### 5. Views vs. Copies: A Critical Concept\n",
    "\n",
    "By default, slices of a NumPy array are **views**, not copies. This means they point to the same underlying data in memory. Modifying a view will also modify the original array."
   ]
  },
  {
   "cell_type": "markdown",
   "id": "08326db5",
   "metadata": {},
   "source": [
    "Let's create a slice containing the first row of our 2D array."
   ]
  },
  {
   "cell_type": "code",
   "execution_count": null,
   "id": "48053aeb",
   "metadata": {},
   "outputs": [
    {
     "name": "stdout",
     "output_type": "stream",
     "text": [
      "[0 1 2 3 4]\n"
     ]
    }
   ],
   "source": [
    "row_0 = arr_2d[0,:]\n",
    "print(row_0)"
   ]
  },
  {
   "cell_type": "markdown",
   "id": "3d36ad70",
   "metadata": {},
   "source": [
    "To prevent this behavior and create an independent copy of the array, use the `.copy()` method."
   ]
  },
  {
   "cell_type": "code",
   "execution_count": null,
   "id": "13f3c435",
   "metadata": {},
   "outputs": [
    {
     "name": "stdout",
     "output_type": "stream",
     "text": [
      "[[ 0  1  2  3  4]\n",
      " [ 5  6  7  8  9]\n",
      " [10 11 12 13 14]\n",
      " [15 16 17 18 19]\n",
      " [20 21 22 23 24]]\n"
     ]
    }
   ],
   "source": [
    "arr_2d_copy = arr_2d.copy()\n",
    "print(arr_2d_copy)"
   ]
  },
  {
   "cell_type": "markdown",
   "id": "95140648",
   "metadata": {},
   "source": [
    "Now, let's modify the first element of our `row_0` slice. Because `row_0` is a view, the change is reflected in the original `arr_2d`. However, `arr_2d_copy` remains unchanged because it's a separate copy."
   ]
  },
  {
   "cell_type": "code",
   "execution_count": null,
   "id": "32bdb539",
   "metadata": {},
   "outputs": [
    {
     "name": "stdout",
     "output_type": "stream",
     "text": [
      "[100   1   2   3   4]\n",
      "[[100   1   2   3   4]\n",
      " [  5   6   7   8   9]\n",
      " [ 10  11  12  13  14]\n",
      " [ 15  16  17  18  19]\n",
      " [ 20  21  22  23  24]]\n",
      "[[ 0  1  2  3  4]\n",
      " [ 5  6  7  8  9]\n",
      " [10 11 12 13 14]\n",
      " [15 16 17 18 19]\n",
      " [20 21 22 23 24]]\n"
     ]
    }
   ],
   "source": [
    "row_0[0] = 100\n",
    "print(row_0)\n",
    "print(arr_2d)\n",
    "print(arr_2d_copy)"
   ]
  }
 ],
 "metadata": {
  "kernelspec": {
   "display_name": "Python 3",
   "language": "python",
   "name": "python3"
  },
  "language_info": {
   "codemirror_mode": {
    "name": "ipython",
    "version": 3
   },
   "file_extension": ".py",
   "mimetype": "text/x-python",
   "name": "python",
   "nbconvert_exporter": "python",
   "pygments_lexer": "ipython3",
   "version": "3.12.5"
  }
 },
 "nbformat": 4,
 "nbformat_minor": 5
}
