{
 "cells": [
  {
   "cell_type": "markdown",
   "id": "97c73ffb",
   "metadata": {},
   "source": [
    "# Broadcasting and Linear Algebra\n",
    "\n",
    "This notebook covers two advanced but crucial NumPy topics: broadcasting, which allows operations on arrays of different shapes, and fundamental linear algebra operations."
   ]
  },
  {
   "cell_type": "code",
   "execution_count": 1,
   "id": "af370408",
   "metadata": {},
   "outputs": [],
   "source": [
    "import numpy as np"
   ]
  },
  {
   "cell_type": "markdown",
   "id": "ebb61e51",
   "metadata": {},
   "source": [
    "### 1. Broadcasting\n",
    "\n",
    "Broadcasting describes the rules for how NumPy handles operations between arrays of different but compatible shapes. It avoids the need to create explicit copies of data, making code more efficient."
   ]
  },
  {
   "cell_type": "markdown",
   "id": "dc3a72c5",
   "metadata": {},
   "source": [
    "#### A Simple Example\n",
    "The simplest case of broadcasting occurs when combining an array with a scalar (a single number). The scalar is \"broadcast\" or stretched to match the shape of the array, and the operation is performed element-wise."
   ]
  },
  {
   "cell_type": "code",
   "execution_count": 2,
   "id": "ea8c9ce2",
   "metadata": {},
   "outputs": [
    {
     "name": "stdout",
     "output_type": "stream",
     "text": [
      "[0 1 2]\n",
      "[5 6 7]\n"
     ]
    }
   ],
   "source": [
    "arr = np.array([0,1,2])\n",
    "print(arr)\n",
    "\n",
    "result = arr + 5\n",
    "print(result)"
   ]
  },
  {
   "cell_type": "markdown",
   "id": "c4911b74",
   "metadata": {},
   "source": [
    "#### A More Practical Use Case\n",
    "A common use case is centering data by subtracting the mean of each feature (column).\n",
    "1. We create a 3x4 data matrix.\n",
    "2. We calculate the sum of each column (`axis=0`).\n",
    "3. Broadcasting allows us to directly subtract the 1D `col_sum` array from the 2D `data` array. NumPy automatically \"stretches\" the row vector `[12, 15, 18, 21]` to match the shape of the data, subtracting it from each of the three rows."
   ]
  },
  {
   "cell_type": "code",
   "execution_count": 3,
   "id": "0dd4cb4d",
   "metadata": {},
   "outputs": [
    {
     "name": "stdout",
     "output_type": "stream",
     "text": [
      "[[ 0  1  2  3]\n",
      " [ 4  5  6  7]\n",
      " [ 8  9 10 11]]\n",
      "[12 15 18 21]\n",
      "[[-12 -14 -16 -18]\n",
      " [ -8 -10 -12 -14]\n",
      " [ -4  -6  -8 -10]]\n"
     ]
    }
   ],
   "source": [
    "data = np.arange(12).reshape(3,4)\n",
    "print(data)\n",
    "\n",
    "col_sum = data.sum(axis=0)\n",
    "print(col_sum)\n",
    "\n",
    "normalized = data - col_sum\n",
    "print(normalized)"
   ]
  },
  {
   "cell_type": "markdown",
   "id": "e955f7a4",
   "metadata": {},
   "source": [
    "Here is another clear example. We subtract a 1D array of column means from a 2D data matrix. The `col_means` vector (shape `(4,)`) is broadcast across each of the three rows of the `data` matrix (shape `(3, 4)`)."
   ]
  },
  {
   "cell_type": "code",
   "execution_count": 4,
   "id": "2cc74687",
   "metadata": {},
   "outputs": [
    {
     "name": "stdout",
     "output_type": "stream",
     "text": [
      "Data matrix (3x4):\n",
      "[[ 0  1  2  3]\n",
      " [ 4  5  6  7]\n",
      " [ 8  9 10 11]]\n",
      "\n",
      "Column means (shape (4,)): [10 20 30 40]\n",
      "\n",
      "Normalized data (data - col_means):\n",
      "[[-10 -19 -28 -37]\n",
      " [ -6 -15 -24 -33]\n",
      " [ -2 -11 -20 -29]]\n"
     ]
    }
   ],
   "source": [
    "# A 3x4 data matrix\n",
    "data = np.arange(12).reshape(3, 4)\n",
    "print(f\"Data matrix (3x4):\\n{data}\")\n",
    "\n",
    "# Let's say we have the means of each column\n",
    "# This is a 1D array (vector) of shape (4,)\n",
    "col_means = np.array([10, 20, 30, 40])\n",
    "print(f\"\\nColumn means (shape {col_means.shape}): {col_means}\")\n",
    "\n",
    "# We can directly subtract the means from the data matrix!\n",
    "# NumPy broadcasts the `col_means` vector to each of the 3 rows.\n",
    "normalized_data = data - col_means\n",
    "print(f\"\\nNormalized data (data - col_means):\\n{normalized_data}\")"
   ]
  },
  {
   "cell_type": "markdown",
   "id": "d75cb035",
   "metadata": {},
   "source": [
    "### 2. Introduction to Linear Algebra\n",
    "\n",
    "NumPy is a powerhouse for linear algebra. The `numpy.linalg` submodule contains a wide range of functions."
   ]
  },
  {
   "cell_type": "markdown",
   "id": "c2fe133b",
   "metadata": {},
   "source": [
    "#### Element-wise vs. Matrix Multiplication\n",
    "It's critical to distinguish between the two types of multiplication:\n",
    "- `*` performs **element-wise** multiplication.\n",
    "- `@` (or `np.dot()`) performs **matrix** multiplication (the dot product)."
   ]
  },
  {
   "cell_type": "code",
   "execution_count": 5,
   "id": "ae10d5a7",
   "metadata": {},
   "outputs": [
    {
     "name": "stdout",
     "output_type": "stream",
     "text": [
      "[[1 2]\n",
      " [3 4]]\n",
      "[[1 1]\n",
      " [1 1]]\n",
      "[[1 2]\n",
      " [3 4]]\n",
      "[[3 3]\n",
      " [7 7]]\n"
     ]
    }
   ],
   "source": [
    "A = np.array([[1,2],\n",
    "              [3,4]])\n",
    "B = np.ones((2,2), dtype=int)\n",
    "\n",
    "print(A)\n",
    "print(B)\n",
    "\n",
    "# *\n",
    "print(A*B)\n",
    "\n",
    "# @\n",
    "print(A @ B)"
   ]
  },
  {
   "cell_type": "markdown",
   "id": "8e1dd941",
   "metadata": {},
   "source": [
    "### 3. Matrix Inverse\n",
    "\n",
    "The inverse of a matrix `A` is a matrix `A_inv` such that their product is the identity matrix. We can compute it using `inv()` from the `numpy.linalg` submodule."
   ]
  },
  {
   "cell_type": "markdown",
   "id": "a97cfab9",
   "metadata": {},
   "source": [
    "Let's import the necessary functions from `numpy.linalg`."
   ]
  },
  {
   "cell_type": "code",
   "execution_count": 6,
   "id": "adf8774e",
   "metadata": {},
   "outputs": [],
   "source": [
    "from numpy.linalg import inv, det, eig"
   ]
  },
  {
   "cell_type": "markdown",
   "id": "fe9aa3f9",
   "metadata": {},
   "source": [
    "Here we compute the inverse of matrix `A`."
   ]
  },
  {
   "cell_type": "code",
   "execution_count": 7,
   "id": "acf212ed",
   "metadata": {},
   "outputs": [
    {
     "name": "stdout",
     "output_type": "stream",
     "text": [
      "[[1 2]\n",
      " [3 4]]\n",
      "[[-2.   1. ]\n",
      " [ 1.5 -0.5]]\n"
     ]
    }
   ],
   "source": [
    "A_inv = inv(A)\n",
    "print(A)\n",
    "print(A_inv)"
   ]
  },
  {
   "cell_type": "markdown",
   "id": "6ecec20e",
   "metadata": {},
   "source": [
    "To verify, we can multiply `A` by its inverse. The result is the identity matrix (with a very small floating-point error)."
   ]
  },
  {
   "cell_type": "code",
   "execution_count": 8,
   "id": "bb93e394",
   "metadata": {},
   "outputs": [
    {
     "name": "stdout",
     "output_type": "stream",
     "text": [
      "[[1.0000000e+00 0.0000000e+00]\n",
      " [8.8817842e-16 1.0000000e+00]]\n"
     ]
    }
   ],
   "source": [
    "identity = A @ A_inv\n",
    "print(identity)"
   ]
  },
  {
   "cell_type": "markdown",
   "id": "f6e4420f",
   "metadata": {},
   "source": [
    "### 4. Determinant\n",
    "\n",
    "The determinant is a scalar value that can be computed from a square matrix. We use the `det()` function."
   ]
  },
  {
   "cell_type": "code",
   "execution_count": 9,
   "id": "9dbd5f8a",
   "metadata": {},
   "outputs": [
    {
     "name": "stdout",
     "output_type": "stream",
     "text": [
      "-2.0000000000000004\n"
     ]
    }
   ],
   "source": [
    "A_det = det(A)\n",
    "print(A_det)"
   ]
  },
  {
   "cell_type": "markdown",
   "id": "31d104f1",
   "metadata": {},
   "source": [
    "### 5. Eigenvalues and Eigenvectors\n",
    "\n",
    "The `eig()` function computes the eigenvalues and eigenvectors of a square matrix. It returns a tuple containing an array of eigenvalues and a matrix of corresponding eigenvectors."
   ]
  },
  {
   "cell_type": "code",
   "execution_count": 10,
   "id": "fd8b01fc",
   "metadata": {},
   "outputs": [
    {
     "name": "stdout",
     "output_type": "stream",
     "text": [
      "EigResult(eigenvalues=array([-0.37228132,  5.37228132]), eigenvectors=array([[-0.82456484, -0.41597356],\n",
      "       [ 0.56576746, -0.90937671]]))\n"
     ]
    }
   ],
   "source": [
    "A_eig = eig(A)\n",
    "print(A_eig)"
   ]
  }
 ],
 "metadata": {
  "kernelspec": {
   "display_name": "Python 3",
   "language": "python",
   "name": "python3"
  },
  "language_info": {
   "codemirror_mode": {
    "name": "ipython",
    "version": 3
   },
   "file_extension": ".py",
   "mimetype": "text/x-python",
   "name": "python",
   "nbconvert_exporter": "python",
   "pygments_lexer": "ipython3",
   "version": "3.12.5"
  }
 },
 "nbformat": 4,
 "nbformat_minor": 5
}
